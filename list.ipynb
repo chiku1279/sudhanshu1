{
  "nbformat": 4,
  "nbformat_minor": 5,
  "metadata": {
    "kernelspec": {
      "display_name": "Python 3",
      "language": "python",
      "name": "python3"
    },
    "language_info": {
      "codemirror_mode": {
        "name": "ipython",
        "version": 3
      },
      "file_extension": ".py",
      "mimetype": "text/x-python",
      "name": "python",
      "nbconvert_exporter": "python",
      "pygments_lexer": "ipython3",
      "version": "3.8.8"
    },
    "colab": {
      "name": "list.ipynb",
      "provenance": [],
      "include_colab_link": true
    }
  },
  "cells": [
    {
      "cell_type": "markdown",
      "metadata": {
        "id": "view-in-github",
        "colab_type": "text"
      },
      "source": [
        "<a href=\"https://colab.research.google.com/github/chiku1279/sudhanshu1/blob/main/list.ipynb\" target=\"_parent\"><img src=\"https://colab.research.google.com/assets/colab-badge.svg\" alt=\"Open In Colab\"/></a>"
      ]
    },
    {
      "cell_type": "code",
      "metadata": {
        "id": "ae58ef6a",
        "outputId": "eecfad40-6276-4a70-b9ce-c4d012931563"
      },
      "source": [
        "#print particular elemnt in a list\n",
        "\n",
        "A=[2,3,4,2,5,3]\n",
        "A[2]=5\n",
        "print(A)"
      ],
      "id": "ae58ef6a",
      "execution_count": null,
      "outputs": [
        {
          "name": "stdout",
          "output_type": "stream",
          "text": [
            "[2, 3, 5, 2, 5, 3]\n"
          ]
        }
      ]
    },
    {
      "cell_type": "code",
      "metadata": {
        "id": "a7ce8a98",
        "outputId": "c341fd50-752b-4f8e-973c-4aa55fd0c418"
      },
      "source": [
        "#print a list by list constructor()\n",
        "\n",
        "a=list((2,3,4,5))\n",
        "print(a)"
      ],
      "id": "a7ce8a98",
      "execution_count": null,
      "outputs": [
        {
          "name": "stdout",
          "output_type": "stream",
          "text": [
            "[2, 3, 4, 5]\n"
          ]
        }
      ]
    },
    {
      "cell_type": "code",
      "metadata": {
        "id": "68bbd0cf",
        "outputId": "726a54e9-d9ed-4895-d884-7bbc7fb4f315"
      },
      "source": [
        "#print list by negetive index\n",
        "\n",
        "a=[2,3,4,4]\n",
        "print(a[-4])"
      ],
      "id": "68bbd0cf",
      "execution_count": null,
      "outputs": [
        {
          "name": "stdout",
          "output_type": "stream",
          "text": [
            "2\n"
          ]
        }
      ]
    },
    {
      "cell_type": "code",
      "metadata": {
        "id": "f195deb7",
        "outputId": "f6204412-290e-4fb1-eadb-5e2a3472b148"
      },
      "source": [
        "a=[2,3,4,6,7,8]\n",
        "print(a[:-4:1])"
      ],
      "id": "f195deb7",
      "execution_count": null,
      "outputs": [
        {
          "name": "stdout",
          "output_type": "stream",
          "text": [
            "[2, 3]\n"
          ]
        }
      ]
    },
    {
      "cell_type": "code",
      "metadata": {
        "id": "a6e091ad",
        "outputId": "ea979cfb-fa59-4c34-9f56-5cace29fd48d"
      },
      "source": [
        "#Change Item Value\n",
        "\n",
        "a=[2,3,4,5,6,7]\n",
        "a[4]=9\n",
        "print(a)"
      ],
      "id": "a6e091ad",
      "execution_count": null,
      "outputs": [
        {
          "name": "stdout",
          "output_type": "stream",
          "text": [
            "[2, 3, 4, 5, 9, 7]\n"
          ]
        }
      ]
    },
    {
      "cell_type": "code",
      "metadata": {
        "id": "50ecf2cd",
        "outputId": "98aee2ef-a744-4a8d-8997-08a8c992468d"
      },
      "source": [
        "#Change a Range of Item Values\n",
        "\n",
        "a=[2,5,6,7,9,8]\n",
        "a[2:4]=[1,3]\n",
        "print(a)"
      ],
      "id": "50ecf2cd",
      "execution_count": null,
      "outputs": [
        {
          "name": "stdout",
          "output_type": "stream",
          "text": [
            "[2, 5, 1, 3, 9, 8]\n"
          ]
        }
      ]
    },
    {
      "cell_type": "code",
      "metadata": {
        "id": "6677d4f1",
        "outputId": "314965f3-b9c0-4214-c0d2-b0fe62846c6a"
      },
      "source": [
        "a=[2,3,4]\n",
        "a[1:3]=[5,6]\n",
        "print(a)"
      ],
      "id": "6677d4f1",
      "execution_count": null,
      "outputs": [
        {
          "name": "stdout",
          "output_type": "stream",
          "text": [
            "[2, 5, 6]\n"
          ]
        }
      ]
    },
    {
      "cell_type": "code",
      "metadata": {
        "id": "36f7a392",
        "outputId": "50558164-a6eb-4426-a229-c03f2ca72e5e"
      },
      "source": [
        "#Insert Items in list\n",
        "\n",
        "a=[2,3,5]\n",
        "a.insert(2,8)\n",
        "print(a)"
      ],
      "id": "36f7a392",
      "execution_count": null,
      "outputs": [
        {
          "name": "stdout",
          "output_type": "stream",
          "text": [
            "[2, 3, 8, 5]\n"
          ]
        }
      ]
    },
    {
      "cell_type": "code",
      "metadata": {
        "id": "41399b5d",
        "outputId": "35df1f3d-096c-492c-a5ee-4cd6cc1cf334"
      },
      "source": [
        "#Append Items in a list\n",
        "\n",
        "a=[3,4,6,1]\n",
        "a.append(8)\n",
        "print(a)"
      ],
      "id": "41399b5d",
      "execution_count": null,
      "outputs": [
        {
          "name": "stdout",
          "output_type": "stream",
          "text": [
            "[3, 4, 6, 1, 8]\n"
          ]
        }
      ]
    },
    {
      "cell_type": "code",
      "metadata": {
        "id": "878a455b",
        "outputId": "0e2bb155-e0fa-482c-fea3-81b15581cabe"
      },
      "source": [
        "#Extend List\n",
        "\n",
        "a=[2,3,4,5]\n",
        "b=[6,7,8,9]\n",
        "a.extend(b)\n",
        "print(a)"
      ],
      "id": "878a455b",
      "execution_count": null,
      "outputs": [
        {
          "name": "stdout",
          "output_type": "stream",
          "text": [
            "[2, 3, 4, 5, 2, 3, 4, 5]\n"
          ]
        }
      ]
    },
    {
      "cell_type": "code",
      "metadata": {
        "id": "fca6bfcb",
        "outputId": "7e070cb3-6c86-40a2-c485-2d656ee384b5"
      },
      "source": [
        "#Remove Specified Item\n",
        "\n",
        "a=[4,5,6,3]\n",
        "a.remove(5)\n",
        "print(a)"
      ],
      "id": "fca6bfcb",
      "execution_count": null,
      "outputs": [
        {
          "name": "stdout",
          "output_type": "stream",
          "text": [
            "[4, 6, 3]\n"
          ]
        }
      ]
    },
    {
      "cell_type": "code",
      "metadata": {
        "id": "6204218f",
        "outputId": "7acf9932-c29b-4795-f59e-bc02c36c458a"
      },
      "source": [
        "#remove specified index value/item\n",
        "\n",
        "a=[2,3,4,5]\n",
        "a.pop(2)\n",
        "print(a)"
      ],
      "id": "6204218f",
      "execution_count": null,
      "outputs": [
        {
          "name": "stdout",
          "output_type": "stream",
          "text": [
            "[2, 3, 5]\n"
          ]
        }
      ]
    },
    {
      "cell_type": "code",
      "metadata": {
        "id": "c41e9002",
        "outputId": "2db51fd8-8c74-46d5-8899-c81c8fdc4b72"
      },
      "source": [
        "#remove using del keyword\n",
        "a=[2,3,5,6]\n",
        "del a[2]\n",
        "print(a)"
      ],
      "id": "c41e9002",
      "execution_count": null,
      "outputs": [
        {
          "name": "stdout",
          "output_type": "stream",
          "text": [
            "[2, 3, 6]\n"
          ]
        }
      ]
    },
    {
      "cell_type": "code",
      "metadata": {
        "id": "202212d0",
        "outputId": "8b56a0d1-43a2-4e9a-80ee-f02b8fea793c"
      },
      "source": [
        "#delete entire list ***a\n",
        "\n",
        "a=[2,6,7,8]\n",
        "del a\n",
        "print(a)"
      ],
      "id": "202212d0",
      "execution_count": null,
      "outputs": [
        {
          "ename": "NameError",
          "evalue": "name 'a' is not defined",
          "output_type": "error",
          "traceback": [
            "\u001b[1;31m---------------------------------------------------------------------------\u001b[0m",
            "\u001b[1;31mNameError\u001b[0m                                 Traceback (most recent call last)",
            "\u001b[1;32m<ipython-input-11-284e1e492a8f>\u001b[0m in \u001b[0;36m<module>\u001b[1;34m\u001b[0m\n\u001b[0;32m      1\u001b[0m \u001b[0ma\u001b[0m\u001b[1;33m=\u001b[0m\u001b[1;33m[\u001b[0m\u001b[1;36m2\u001b[0m\u001b[1;33m,\u001b[0m\u001b[1;36m6\u001b[0m\u001b[1;33m,\u001b[0m\u001b[1;36m7\u001b[0m\u001b[1;33m,\u001b[0m\u001b[1;36m8\u001b[0m\u001b[1;33m]\u001b[0m\u001b[1;33m\u001b[0m\u001b[1;33m\u001b[0m\u001b[0m\n\u001b[0;32m      2\u001b[0m \u001b[1;32mdel\u001b[0m \u001b[0ma\u001b[0m\u001b[1;33m\u001b[0m\u001b[1;33m\u001b[0m\u001b[0m\n\u001b[1;32m----> 3\u001b[1;33m \u001b[0mprint\u001b[0m\u001b[1;33m(\u001b[0m\u001b[0ma\u001b[0m\u001b[1;33m)\u001b[0m\u001b[1;33m\u001b[0m\u001b[1;33m\u001b[0m\u001b[0m\n\u001b[0m",
            "\u001b[1;31mNameError\u001b[0m: name 'a' is not defined"
          ]
        }
      ]
    },
    {
      "cell_type": "code",
      "metadata": {
        "id": "7c1ec58f",
        "outputId": "73ad5d72-0a6c-42ef-cea6-b74c9bd4f1b8"
      },
      "source": [
        "#Loop Through a Lista\n",
        "\n",
        "a=[2,3,4,5,6]\n",
        "for i in a:\n",
        "    print(i)"
      ],
      "id": "7c1ec58f",
      "execution_count": null,
      "outputs": [
        {
          "name": "stdout",
          "output_type": "stream",
          "text": [
            "2\n",
            "3\n",
            "4\n",
            "5\n",
            "6\n"
          ]
        }
      ]
    },
    {
      "cell_type": "code",
      "metadata": {
        "id": "e90136ad",
        "outputId": "3b678a4c-3fa3-41ca-c76b-a1b135d4b9c6"
      },
      "source": [
        "#Loop Through the Index Numbers\n",
        "\n",
        "a=[2,3,4,5,6]\n",
        "for i in range(len(a)):\n",
        "    print(a[i])\n"
      ],
      "id": "e90136ad",
      "execution_count": null,
      "outputs": [
        {
          "name": "stdout",
          "output_type": "stream",
          "text": [
            "2\n",
            "3\n",
            "4\n",
            "5\n",
            "6\n"
          ]
        }
      ]
    },
    {
      "cell_type": "code",
      "metadata": {
        "id": "83556873",
        "outputId": "f404ebd9-3760-4fd2-8c67-77356eaa3832"
      },
      "source": [
        "#Looping Using List Comprehension ***   (in python print() function doesn't return nothing therfore \"none\")\n",
        "\n",
        "a=[2,3,4,5]\n",
        "[print (i) for i in a]"
      ],
      "id": "83556873",
      "execution_count": null,
      "outputs": [
        {
          "name": "stdout",
          "output_type": "stream",
          "text": [
            "2\n",
            "3\n",
            "4\n",
            "5\n"
          ]
        },
        {
          "data": {
            "text/plain": [
              "[None, None, None, None]"
            ]
          },
          "execution_count": 8,
          "metadata": {},
          "output_type": "execute_result"
        }
      ]
    },
    {
      "cell_type": "code",
      "metadata": {
        "id": "b4545cce",
        "outputId": "6a16b582-dd9b-44b5-ced9-421c33b6e760"
      },
      "source": [
        "#Sort List alphanumerically      ( *** by default Capital letter sorted first )\n",
        "\n",
        "a=[\"chiku\",\"baby\",\"seepu\"]\n",
        "a.sort()\n",
        "print(a)"
      ],
      "id": "b4545cce",
      "execution_count": null,
      "outputs": [
        {
          "name": "stdout",
          "output_type": "stream",
          "text": [
            "['baby', 'chiku', 'seepu']\n"
          ]
        }
      ]
    },
    {
      "cell_type": "code",
      "metadata": {
        "id": "9804c506",
        "outputId": "4c9f6ab1-9e39-4f78-bfd0-498263fb1d92"
      },
      "source": [
        "#Sort List numerically\n",
        "\n",
        "a=[3,2,6,4,8,1]\n",
        "a.sort()\n",
        "print(a)"
      ],
      "id": "9804c506",
      "execution_count": null,
      "outputs": [
        {
          "name": "stdout",
          "output_type": "stream",
          "text": [
            "[1, 2, 3, 4, 6, 8]\n"
          ]
        }
      ]
    },
    {
      "cell_type": "code",
      "metadata": {
        "id": "c48518de",
        "outputId": "36f70e71-b929-4628-d5da-7a7fbbc78eed"
      },
      "source": [
        "#Sort Descending ***\n",
        "\n",
        "a=[2,5,4,7,1,8,0]\n",
        "a.sort(reverse=True)\n",
        "print(a)"
      ],
      "id": "c48518de",
      "execution_count": null,
      "outputs": [
        {
          "name": "stdout",
          "output_type": "stream",
          "text": [
            "[8, 7, 5, 4, 2, 1, 0]\n"
          ]
        }
      ]
    },
    {
      "cell_type": "code",
      "metadata": {
        "id": "b6e549db",
        "outputId": "a9c46fda-85c6-48b8-e1d8-e4620bf8798b"
      },
      "source": [
        "def sort():\n",
        "    a.sort(reverse=True)\n",
        "    return a\n",
        "a=[4,3,6,2,8]\n",
        "sort()"
      ],
      "id": "b6e549db",
      "execution_count": null,
      "outputs": [
        {
          "data": {
            "text/plain": [
              "[8, 6, 4, 3, 2]"
            ]
          },
          "execution_count": 27,
          "metadata": {},
          "output_type": "execute_result"
        }
      ]
    },
    {
      "cell_type": "code",
      "metadata": {
        "id": "d479cbbf",
        "outputId": "87c57731-87d2-4dfa-a6df-4be1dee07a72"
      },
      "source": [
        "#Copy a List\n",
        "\n",
        "a=[2,4,5,6,1]\n",
        "b=a.copy()\n",
        "print(b)"
      ],
      "id": "d479cbbf",
      "execution_count": null,
      "outputs": [
        {
          "name": "stdout",
          "output_type": "stream",
          "text": [
            "[2, 4, 5, 6, 1]\n"
          ]
        }
      ]
    },
    {
      "cell_type": "code",
      "metadata": {
        "id": "6cd1574e",
        "outputId": "8576d386-1f1a-4ba3-9784-c16294d01135"
      },
      "source": [
        "# join two list using \"+\"\n",
        "\n",
        "a=[3,5,2,1]\n",
        "b=[6,7,8,9]\n",
        "c=a+b\n",
        "print(c)"
      ],
      "id": "6cd1574e",
      "execution_count": null,
      "outputs": [
        {
          "name": "stdout",
          "output_type": "stream",
          "text": [
            "[3, 5, 2, 1, 6, 7, 8, 9]\n"
          ]
        }
      ]
    },
    {
      "cell_type": "code",
      "metadata": {
        "id": "8ffc798d",
        "outputId": "0558dd71-2a44-45e9-9069-b492ca043d03"
      },
      "source": [
        "#join two list using  \"append()\"\n",
        "\n",
        "a=[3,4,6,8]\n",
        "b=[1,2,3,4]\n",
        "for i in b:\n",
        "    a.append(i)\n",
        "print(a)"
      ],
      "id": "8ffc798d",
      "execution_count": null,
      "outputs": [
        {
          "name": "stdout",
          "output_type": "stream",
          "text": [
            "[3, 4, 6, 8, 1, 2, 3, 4]\n"
          ]
        }
      ]
    },
    {
      "cell_type": "code",
      "metadata": {
        "id": "c3f55d42",
        "outputId": "1cd5c8fc-2708-41d3-d401-27d99336d384"
      },
      "source": [
        "##join two list using  \"Extend()\"\n",
        "\n",
        "a=[2,3,4,5]\n",
        "b=[6,7,8,9]\n",
        "a.extend(b)\n",
        "print(a)"
      ],
      "id": "c3f55d42",
      "execution_count": null,
      "outputs": [
        {
          "name": "stdout",
          "output_type": "stream",
          "text": [
            "[2, 3, 4, 5, 6, 7, 8, 9]\n"
          ]
        }
      ]
    },
    {
      "cell_type": "code",
      "metadata": {
        "id": "b220e1a7",
        "outputId": "10e8ea51-4130-4cf7-a0ae-b99d5796d816"
      },
      "source": [
        "#delete all elemts from list using \"clear()\"\n",
        "\n",
        "a=[2,3,4,5]\n",
        "a.clear()\n",
        "print(a)"
      ],
      "id": "b220e1a7",
      "execution_count": null,
      "outputs": [
        {
          "name": "stdout",
          "output_type": "stream",
          "text": [
            "[]\n"
          ]
        }
      ]
    },
    {
      "cell_type": "code",
      "metadata": {
        "id": "27521b4a",
        "outputId": "75e79b5c-f138-4fe2-f55d-5a824eace492"
      },
      "source": [
        "#count number of elements with the specified value\n",
        "\n",
        "a=[2,4,3,2,5,3]\n",
        "x=a.count(3)\n",
        "print(x)"
      ],
      "id": "27521b4a",
      "execution_count": null,
      "outputs": [
        {
          "name": "stdout",
          "output_type": "stream",
          "text": [
            "2\n"
          ]
        }
      ]
    }
  ]
}