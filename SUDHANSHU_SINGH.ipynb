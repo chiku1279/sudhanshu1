{
  "nbformat": 4,
  "nbformat_minor": 0,
  "metadata": {
    "colab": {
      "name": "SUDHANSHU SINGH.ipynb",
      "provenance": [],
      "collapsed_sections": [],
      "authorship_tag": "ABX9TyNj+rlUJfgIHvsHuFTQr8oD",
      "include_colab_link": true
    },
    "kernelspec": {
      "name": "python3",
      "display_name": "Python 3"
    },
    "language_info": {
      "name": "python"
    }
  },
  "cells": [
    {
      "cell_type": "markdown",
      "metadata": {
        "id": "view-in-github",
        "colab_type": "text"
      },
      "source": [
        "<a href=\"https://colab.research.google.com/github/chiku1279/sudhanshu1/blob/main/SUDHANSHU_SINGH.ipynb\" target=\"_parent\"><img src=\"https://colab.research.google.com/assets/colab-badge.svg\" alt=\"Open In Colab\"/></a>"
      ]
    },
    {
      "cell_type": "code",
      "metadata": {
        "colab": {
          "base_uri": "https://localhost:8080/"
        },
        "id": "6qw0pVC3lfeP",
        "outputId": "719f57ee-8615-4c4d-d8b8-34dac840c4d5"
      },
      "source": [
        "print('hello world')"
      ],
      "execution_count": null,
      "outputs": [
        {
          "output_type": "stream",
          "name": "stdout",
          "text": [
            "hello world\n"
          ]
        }
      ]
    },
    {
      "cell_type": "code",
      "metadata": {
        "colab": {
          "base_uri": "https://localhost:8080/"
        },
        "id": "s9-l-AYMlzSW",
        "outputId": "f3f62325-8acf-4c98-e125-903ee7a4fd92"
      },
      "source": [
        "a=5\n",
        "b=10\n",
        "c=a+b\n",
        "print(c)"
      ],
      "execution_count": null,
      "outputs": [
        {
          "output_type": "stream",
          "name": "stdout",
          "text": [
            "15\n"
          ]
        }
      ]
    },
    {
      "cell_type": "code",
      "metadata": {
        "colab": {
          "base_uri": "https://localhost:8080/"
        },
        "id": "p1HCc-d7llDu",
        "outputId": "f82449b6-6c24-449c-8ef4-6decfc8335ff"
      },
      "source": [
        "n=int(input(\"Enter any number\"))\n",
        "r=n**0.5\n",
        "print(\"the square root of\",n,\"=\",r)"
      ],
      "execution_count": null,
      "outputs": [
        {
          "output_type": "stream",
          "name": "stdout",
          "text": [
            "Enter any number6\n",
            "the square root of 6 = 2.449489742783178\n"
          ]
        }
      ]
    },
    {
      "cell_type": "code",
      "metadata": {
        "colab": {
          "base_uri": "https://localhost:8080/"
        },
        "id": "zRfMis-vqlWG",
        "outputId": "4c53b7e5-2811-4e0f-b095-2dcd004cccb5"
      },
      "source": [
        "a=int(input(\"enter side a:\\n\"))\n",
        "b=int(input(\"enter side b:\\n\"))\n",
        "c=int(input(\"enter side c:\\n\"))\n",
        "p=(a+b+c)\n",
        "s=p/2\n",
        "area=(s*(s-a)*(s-b)*(s-c))**(0.5)\n",
        "print(\"the area of triange=\",area)"
      ],
      "execution_count": null,
      "outputs": [
        {
          "output_type": "stream",
          "name": "stdout",
          "text": [
            "enter side a:\n",
            "3\n",
            "enter side b:\n",
            "4\n",
            "enter side c:\n",
            "5\n",
            "the area of triange= 6.0\n"
          ]
        }
      ]
    },
    {
      "cell_type": "code",
      "metadata": {
        "colab": {
          "base_uri": "https://localhost:8080/"
        },
        "id": "mnaTulO6rVqG",
        "outputId": "8f1c9924-b9ff-45ce-9c1e-09c443c10759"
      },
      "source": [
        "a=float(input(\"enter a\"))\n",
        "b=float(input(\"enter b\"))\n",
        "c=float(input(\"entere c\")) \n",
        "d=(b*b)-4*(a*c) \n",
        "x=(-b+d**0.5)/2*a \n",
        "y=(-b-d**0.5)/2*a\n",
        "print(x)\n",
        "print(y)"
      ],
      "execution_count": null,
      "outputs": [
        {
          "output_type": "stream",
          "name": "stdout",
          "text": [
            "enter a3\n",
            "enter b4\n",
            "entere c6\n",
            "(-5.999999999999999+11.224972160321824j)\n",
            "(-6.000000000000002-11.224972160321824j)\n"
          ]
        }
      ]
    },
    {
      "cell_type": "code",
      "metadata": {
        "colab": {
          "base_uri": "https://localhost:8080/"
        },
        "id": "HvpbagLvzlEz",
        "outputId": "fe168d32-6259-468f-be3b-8ba6c71f0dee"
      },
      "source": [
        "a=int(input(\"enter a :\"))\n",
        "b=int(input(\"enter b :\"))\n",
        "t=a                                  #swap with using third variable\n",
        "a=b\n",
        "b=t\n",
        "print(\"after swapped a is equal to\",a,\"and b is equal to\",b)\n"
      ],
      "execution_count": null,
      "outputs": [
        {
          "output_type": "stream",
          "name": "stdout",
          "text": [
            "enter a :2\n",
            "enter b :3\n",
            "after swapped a is equal to 3 and b is equal to 2\n"
          ]
        }
      ]
    },
    {
      "cell_type": "code",
      "metadata": {
        "colab": {
          "base_uri": "https://localhost:8080/"
        },
        "id": "wX2g6HLr0QCL",
        "outputId": "daa88cd3-d905-40ee-d031-10a1f4805f1a"
      },
      "source": [
        "a=int(input(\"enter a :\"))\n",
        "b=int(input(\"enetr b :\"))\n",
        "a=a+b                             #swap without using third variable\n",
        "b=a-b\n",
        "a=a-b\n",
        "print(\"after swap a is equal to\",a,\"and b is equal to\",b)"
      ],
      "execution_count": null,
      "outputs": [
        {
          "output_type": "stream",
          "name": "stdout",
          "text": [
            "enter a :2\n",
            "enetr b :4\n",
            "after swap a is equal to 4 and b is equal to 2\n"
          ]
        }
      ]
    },
    {
      "cell_type": "code",
      "metadata": {
        "id": "N-Gnjlk319Wh",
        "colab": {
          "base_uri": "https://localhost:8080/"
        },
        "outputId": "39d30b43-ee9c-4a47-d3d3-62fb024fdf27"
      },
      "source": [
        "import random\n",
        "n=random.randint(10,20)\n",
        "print(n)"
      ],
      "execution_count": null,
      "outputs": [
        {
          "output_type": "stream",
          "name": "stdout",
          "text": [
            "12\n"
          ]
        }
      ]
    },
    {
      "cell_type": "code",
      "metadata": {
        "colab": {
          "base_uri": "https://localhost:8080/"
        },
        "id": "WHZg5ilqI-2h",
        "outputId": "206a6ea5-d5cf-40f3-b3d1-5f766ccf4c4a"
      },
      "source": [
        "n=float(input(\"Enter in kilmeter:\"))\n",
        "r=n*0.621371\n",
        "print(n,\"kilometer =\",r,\"miles\")"
      ],
      "execution_count": null,
      "outputs": [
        {
          "output_type": "stream",
          "name": "stdout",
          "text": [
            "Enter in kilmeter:2\n",
            "2.0 kilometer = 1.242742 miles\n"
          ]
        }
      ]
    },
    {
      "cell_type": "code",
      "metadata": {
        "colab": {
          "base_uri": "https://localhost:8080/"
        },
        "id": "MEPM94XdLooy",
        "outputId": "008dcfc0-bf3c-41ab-ad3e-502bc324eea1"
      },
      "source": [
        "c=float(input(\"Enter temp in celcius\"))\n",
        "f=(1.8*c)+32\n",
        "print(\"Temperature in celcius =\",f,\"fahreheit\")"
      ],
      "execution_count": null,
      "outputs": [
        {
          "output_type": "stream",
          "name": "stdout",
          "text": [
            "Enter temp in celcius40\n",
            "Temperature in celcius = 104.0 fahreheit\n"
          ]
        }
      ]
    },
    {
      "cell_type": "code",
      "metadata": {
        "colab": {
          "base_uri": "https://localhost:8080/"
        },
        "id": "XFvDGmdIMVOk",
        "outputId": "e5ff47f6-fc36-40e4-d5ff-cb821bb14d89"
      },
      "source": [
        "n=int(input(\"enter any number:\"))\n",
        "if(n>0):\n",
        "  print(\"Positive  +\\n\")\n",
        "elif(n<0):\n",
        "  print(\"Negetive  -\\n\")\n",
        "else:\n",
        "  print(\"Zero  0\\n\")"
      ],
      "execution_count": null,
      "outputs": [
        {
          "output_type": "stream",
          "name": "stdout",
          "text": [
            "enter any number:-4\n",
            "Negetive  -\n",
            "\n"
          ]
        }
      ]
    },
    {
      "cell_type": "code",
      "metadata": {
        "colab": {
          "base_uri": "https://localhost:8080/"
        },
        "id": "2_8MlmAMOEs1",
        "outputId": "215f9ae3-f239-44d1-da9e-13f643f695ba"
      },
      "source": [
        "n=int(input(\"Enter any number\"))\n",
        "r=n%2\n",
        "if(r==0):\n",
        "  print(\"Even\")\n",
        "else:\n",
        "  print(\"Odd\")"
      ],
      "execution_count": null,
      "outputs": [
        {
          "output_type": "stream",
          "name": "stdout",
          "text": [
            "Entter any nymber5\n",
            "Odd\n"
          ]
        }
      ]
    },
    {
      "cell_type": "code",
      "metadata": {
        "colab": {
          "base_uri": "https://localhost:8080/"
        },
        "id": "AFJSa60KOSGA",
        "outputId": "adf3d164-6d42-420e-9a24-4933c44c7ddb"
      },
      "source": [
        "n=int(input(\"Enter a year:\"))\n",
        "if(n%4==0):\n",
        "  if(n%100==0):\n",
        "    if(n%400==0):\n",
        "      print(\"Leap year\")\n",
        "    else:\n",
        "      print(\" not a Leap year\")\n",
        "  else:\n",
        "    print(\" leap year\")\n",
        "else:\n",
        "  print(\" not a Leap year\")\n",
        "\n"
      ],
      "execution_count": null,
      "outputs": [
        {
          "output_type": "stream",
          "name": "stdout",
          "text": [
            "Enter a year:2400\n",
            "Leap year\n"
          ]
        }
      ]
    },
    {
      "cell_type": "code",
      "metadata": {
        "colab": {
          "base_uri": "https://localhost:8080/"
        },
        "id": "TkjnIhvkQYkR",
        "outputId": "63f6d6ae-28dd-4c60-db0e-3d96d6a60593"
      },
      "source": [
        "a=int(input(\"enter A:\\n\"))\n",
        "b=int(input(\"enter B:\\n\"))\n",
        "c=int(input(\"enter C:\\n\"))\n",
        "if(a>b):\n",
        "  if(a>c):\n",
        "    print(\"A is greatest\")\n",
        "  else:\n",
        "    print(\"C is greatest\")\n",
        "elif(b>c):\n",
        "  print(\"B is greatest\")\n",
        "else:\n",
        "  print(\"C is greatest\")"
      ],
      "execution_count": null,
      "outputs": [
        {
          "output_type": "stream",
          "name": "stdout",
          "text": [
            "enter A:\n",
            "5\n",
            "enter B:\n",
            "9\n",
            "enter C:\n",
            "1\n",
            "B is greatest\n"
          ]
        }
      ]
    },
    {
      "cell_type": "code",
      "metadata": {
        "colab": {
          "base_uri": "https://localhost:8080/"
        },
        "id": "bWfxIFIBXMj1",
        "outputId": "fefab012-4693-45f7-de3e-12e7de9e4cde"
      },
      "source": [
        "n=int(input(\"Enter any number:\"))\n",
        "if n>1:\n",
        "  for i in range(2,n):\n",
        "      if n%i==0:\n",
        "        print(\"Not a prime\")\n",
        "        break\n",
        "  else:\n",
        "    print(\"Prime\")\n",
        "else:\n",
        "  print(\"not a prime\")\n",
        "\n",
        "\n"
      ],
      "execution_count": null,
      "outputs": [
        {
          "output_type": "stream",
          "name": "stdout",
          "text": [
            "Enter any number:21\n",
            "Not a prime\n"
          ]
        }
      ]
    },
    {
      "cell_type": "code",
      "metadata": {
        "id": "kOz5WiwqZlHK",
        "colab": {
          "base_uri": "https://localhost:8080/"
        },
        "outputId": "6faf9a3b-d7e2-4558-88ad-23d0deb5070c"
      },
      "source": [
        "n=int(input(\"Enter any number\"))\n",
        "c=1\n",
        "for i in range(1,n+1):\n",
        "  c=c*i\n",
        "print(c)"
      ],
      "execution_count": null,
      "outputs": [
        {
          "output_type": "stream",
          "name": "stdout",
          "text": [
            "Enter any number5\n",
            "120\n"
          ]
        }
      ]
    },
    {
      "cell_type": "code",
      "metadata": {
        "colab": {
          "base_uri": "https://localhost:8080/"
        },
        "id": "4yydx3yFYCXT",
        "outputId": "bc82dd77-945c-4103-98f0-eee892285f48"
      },
      "source": [
        "n=int(input(\"Entre any number\"))\n",
        "c=1\n",
        "for i in range(1,11):\n",
        "  c=n*i\n",
        "  print(n,\"*\",i,\"=\",c)\n",
        "\n"
      ],
      "execution_count": null,
      "outputs": [
        {
          "output_type": "stream",
          "name": "stdout",
          "text": [
            "Entre any number3\n",
            "3 * 1 = 3\n",
            "3 * 2 = 6\n",
            "3 * 3 = 9\n",
            "3 * 4 = 12\n",
            "3 * 5 = 15\n",
            "3 * 6 = 18\n",
            "3 * 7 = 21\n",
            "3 * 8 = 24\n",
            "3 * 9 = 27\n",
            "3 * 10 = 30\n"
          ]
        }
      ]
    },
    {
      "cell_type": "code",
      "metadata": {
        "colab": {
          "base_uri": "https://localhost:8080/"
        },
        "id": "kHGegv1YZFIx",
        "outputId": "dde82fcc-cba4-4366-ea1e-0e52eec5bffa"
      },
      "source": [
        "n=int(input(\"ENter any number\"))\n",
        "a=0\n",
        "b=1\n",
        "if(n<=0):\n",
        "  print(\"PLese enter valid number\")\n",
        "elif(n==1):\n",
        "  print(a,end=\"  \")\n",
        "elif(n>=2):\n",
        "  print(a)\n",
        "  print(b)\n",
        "  for i in range(2,n):\n",
        "    c=a+b\n",
        "    print(c)\n",
        "    a=b\n",
        "    b=c\n",
        "\n"
      ],
      "execution_count": null,
      "outputs": [
        {
          "output_type": "stream",
          "name": "stdout",
          "text": [
            "ENter any number5\n",
            "0\n",
            "1\n",
            "1\n",
            "2\n",
            "3\n"
          ]
        }
      ]
    },
    {
      "cell_type": "code",
      "metadata": {
        "colab": {
          "base_uri": "https://localhost:8080/"
        },
        "id": "JcntF7WFbVKU",
        "outputId": "5a19d518-9052-4c95-fbca-5e57b4e68257"
      },
      "source": [
        "n= int(input(\"Enter a number: \"))\n",
        "sum = 0\n",
        "t = num\n",
        "while t> 0:\n",
        "   d = t % 10\n",
        "   sum += d ** 3\n",
        "   t //= 10\n",
        "if n == sum:\n",
        "   print(n,\"is an Armstrong number\")\n",
        "else:\n",
        "   print(n,\"is not an Armstrong number\")"
      ],
      "execution_count": null,
      "outputs": [
        {
          "output_type": "stream",
          "name": "stdout",
          "text": [
            "Enter a number: 153\n",
            "153 is an Armstrong number\n"
          ]
        }
      ]
    },
    {
      "cell_type": "code",
      "metadata": {
        "id": "B6Wa5JIPkfkU",
        "colab": {
          "base_uri": "https://localhost:8080/"
        },
        "outputId": "e1222938-91a0-46a5-f17b-6d996eb7f3db"
      },
      "source": [
        "n=int(input(\"Enter number upto which sum is reqired\"))\n",
        "sum=0\n",
        "for i in range(1,n+1):\n",
        "  sum=sum+i\n",
        "print(sum)"
      ],
      "execution_count": null,
      "outputs": [
        {
          "output_type": "stream",
          "name": "stdout",
          "text": [
            "Enter number upto which sum is reqired5\n",
            "15\n"
          ]
        }
      ]
    },
    {
      "cell_type": "code",
      "metadata": {
        "colab": {
          "base_uri": "https://localhost:8080/"
        },
        "id": "Fkp5zeWAnLRe",
        "outputId": "2fe81369-a14b-463d-c938-3e44b5aee489"
      },
      "source": [
        "n = int(input(\"Enter number of terms \"))\n",
        "s = list(map(lambda x: 2 ** x, range(n)))\n",
        "for i in range(n):\n",
        "   print(\"2 raised to power\",i,\"is\",s[i])"
      ],
      "execution_count": null,
      "outputs": [
        {
          "output_type": "stream",
          "name": "stdout",
          "text": [
            "Enter number of terms 5\n",
            "2 raised to power 0 is 1\n",
            "2 raised to power 1 is 2\n",
            "2 raised to power 2 is 4\n",
            "2 raised to power 3 is 8\n",
            "2 raised to power 4 is 16\n"
          ]
        }
      ]
    },
    {
      "cell_type": "code",
      "metadata": {
        "colab": {
          "base_uri": "https://localhost:8080/"
        },
        "id": "HnWi_VYaoJev",
        "outputId": "5e651d01-82f9-41fd-9f73-77e40055fc6d"
      },
      "source": [
        "n=int(input(\"enter any number\"))\n",
        "for  i in range(1,n):\n",
        "  if(i%2==0):\n",
        "    print(i)"
      ],
      "execution_count": null,
      "outputs": [
        {
          "output_type": "stream",
          "name": "stdout",
          "text": [
            "enter any number5\n",
            "2\n",
            "4\n"
          ]
        }
      ]
    },
    {
      "cell_type": "code",
      "metadata": {
        "colab": {
          "base_uri": "https://localhost:8080/"
        },
        "id": "ErsSUc7ips1s",
        "outputId": "76172b3a-5d5b-4fbe-c7c7-f919c190fe72"
      },
      "source": [
        "n=int(input(\"ENter any number :\"))\n",
        "print(\"The decimal value of\", n, \"is:\")\n",
        "print(bin(n), \"binary.\")\n",
        "print(oct(n), \" octal.\")\n",
        "print(hex(n), \" hexadecimal.\")"
      ],
      "execution_count": null,
      "outputs": [
        {
          "output_type": "stream",
          "name": "stdout",
          "text": [
            "ENter any number :10\n",
            "The decimal value of 10 is:\n",
            "0b1010 in binary.\n",
            "0o12 in octal.\n",
            "0xa in hexadecimal.\n"
          ]
        }
      ]
    },
    {
      "cell_type": "code",
      "metadata": {
        "colab": {
          "base_uri": "https://localhost:8080/"
        },
        "id": "cRA38StOq3OT",
        "outputId": "e97dbe9b-1abc-40b5-f1c6-0f7ce2e0809a"
      },
      "source": [
        "n=input(\"Enter any character\")\n",
        "print(\"The ascii value of\",n,\"=\",ord(n))\n"
      ],
      "execution_count": null,
      "outputs": [
        {
          "output_type": "stream",
          "name": "stdout",
          "text": [
            "Enter any characterA\n",
            "The ascii value of A = 65\n"
          ]
        }
      ]
    },
    {
      "cell_type": "code",
      "metadata": {
        "colab": {
          "base_uri": "https://localhost:8080/"
        },
        "id": "PWZeLZJUus7a",
        "outputId": "11c28502-b191-4b4d-ef1d-74cc8e450eaf"
      },
      "source": [
        "a=int(input(\"enter a\"))\n",
        "b=int(input(\"enter b\"))\n",
        "if a>b:\n",
        "  s=b\n",
        "else:\n",
        "  s=a\n",
        "for i in range(1,s+1):\n",
        "  if((a%i==0)and(b%i==0)):\n",
        "    gcd=i\n",
        "print(\"gcd/hcf=\",i)"
      ],
      "execution_count": null,
      "outputs": [
        {
          "output_type": "stream",
          "name": "stdout",
          "text": [
            "enter a20\n",
            "enter b10\n",
            "gcd/hcf= 10\n"
          ]
        }
      ]
    },
    {
      "cell_type": "code",
      "metadata": {
        "colab": {
          "base_uri": "https://localhost:8080/"
        },
        "id": "wx1LTxSfzg8H",
        "outputId": "9535b3d8-5877-4f89-c0c1-037ddfc45ecf"
      },
      "source": [
        "a=int(input(\"enter a\"))\n",
        "b=int(input(\"enter b\"))\n",
        "if(a>b):\n",
        "  m=a\n",
        "else:\n",
        "  m=b\n",
        "while(1):\n",
        "  if((m%a==0)and(m%b==0)):\n",
        "    print(\"LCM=\",m)\n",
        "    break;\n",
        "  m=m+1\n"
      ],
      "execution_count": null,
      "outputs": [
        {
          "output_type": "stream",
          "name": "stdout",
          "text": [
            "enter a10\n",
            "enter b12\n",
            "LCM= 60\n"
          ]
        }
      ]
    },
    {
      "cell_type": "code",
      "metadata": {
        "colab": {
          "base_uri": "https://localhost:8080/"
        },
        "id": "Lhn6Vh_J4PeO",
        "outputId": "a4b59da0-eecc-4b02-9647-2aba5cf8451b"
      },
      "source": [
        "n=int(input(\"enetr any number\"))\n",
        "for i in range(1,n+1):\n",
        "  if(n%i==0):\n",
        "    print(i)\n",
        "  \n"
      ],
      "execution_count": null,
      "outputs": [
        {
          "output_type": "stream",
          "name": "stdout",
          "text": [
            "enetr any number12\n",
            "1\n",
            "2\n",
            "3\n",
            "4\n",
            "6\n",
            "12\n"
          ]
        }
      ]
    },
    {
      "cell_type": "code",
      "metadata": {
        "colab": {
          "base_uri": "https://localhost:8080/"
        },
        "id": "6AzG0931-75W",
        "outputId": "fa67a41c-80b9-4569-8fba-5a5834a6f271"
      },
      "source": [
        "n=int(input(\"Enter your choise 1-Adittion , 2-Substration , 3-Multiplication ,4-Division\"))\n",
        "a=int(input(\"Enter a\"))\n",
        "b=int(input(\"Enter b\"))\n",
        "if(n==1):\n",
        "  print(\"Addition\")\n",
        "  r=a+b\n",
        "  print(r)\n",
        "elif(n==2):\n",
        "  print(\"Substraction\")\n",
        "  r=a-b\n",
        "  print(r)\n",
        "elif(n==3):\n",
        "  print(\"Multiplication\")\n",
        "  r=a*b\n",
        "  print(r)\n",
        "elif(n==4):\n",
        "  print(\"Division\")\n",
        "  r=a/b\n",
        "  print(r)\n",
        "else:\n",
        "  print(\"Wrong choise\")\n",
        "\n",
        "\n",
        "\n"
      ],
      "execution_count": null,
      "outputs": [
        {
          "output_type": "stream",
          "name": "stdout",
          "text": [
            "Enter your choise 1-Adittion , 2-Substration , 3-Multiplication ,4-Division3\n",
            "Enter a3\n",
            "Enter b5\n",
            "Multiplication\n",
            "15\n"
          ]
        }
      ]
    },
    {
      "cell_type": "code",
      "metadata": {
        "colab": {
          "base_uri": "https://localhost:8080/"
        },
        "id": "DX_hoEndGrsi",
        "outputId": "49954df4-64ae-490f-fc67-52b0375d7e01"
      },
      "source": [
        "import calendar\n",
        "y=int(input(\"Enter a year\"))\n",
        "m=int(input(\"Enter  a month\"))\n",
        "print(calendar.month(y,m))"
      ],
      "execution_count": null,
      "outputs": [
        {
          "output_type": "stream",
          "name": "stdout",
          "text": [
            "Enter a year2020\n",
            "Enter  a month3\n",
            "     March 2020\n",
            "Mo Tu We Th Fr Sa Su\n",
            "                   1\n",
            " 2  3  4  5  6  7  8\n",
            " 9 10 11 12 13 14 15\n",
            "16 17 18 19 20 21 22\n",
            "23 24 25 26 27 28 29\n",
            "30 31\n",
            "\n"
          ]
        }
      ]
    },
    {
      "cell_type": "code",
      "metadata": {
        "colab": {
          "base_uri": "https://localhost:8080/"
        },
        "id": "QBhBWoV2KCiP",
        "outputId": "05d04adb-5ea7-44c5-8030-76edeab6a6c6"
      },
      "source": [
        "def Fab(n):  \n",
        "   if n <= 1:  \n",
        "       return n  \n",
        "   else:  \n",
        "       return(Fab(n-1) + Fab(n-2))  \n",
        "n = int(input(\"Enter the terms? \"))   \n",
        "if n <= 0:  \n",
        "   print(\" enter a positive integer\")  \n",
        "else:  \n",
        "   print(\"Fibonacci sequence:\")  \n",
        "   for i in range(n):  \n",
        "       print(Fab(i))"
      ],
      "execution_count": null,
      "outputs": [
        {
          "output_type": "stream",
          "name": "stdout",
          "text": [
            "Enter the terms? 5\n",
            "Fibonacci sequence:\n",
            "0\n",
            "1\n",
            "1\n",
            "2\n",
            "3\n"
          ]
        }
      ]
    },
    {
      "cell_type": "code",
      "metadata": {
        "colab": {
          "base_uri": "https://localhost:8080/"
        },
        "id": "REMf3Ys4MEms",
        "outputId": "417af9ba-e5e1-44a1-da2b-b40d632ddc82"
      },
      "source": [
        "\n",
        "def ns(n):\n",
        "   if n==1:\n",
        "       return n\n",
        "   else:\n",
        "       return (n + ns(n-1))\n",
        "num = int(input(\"Enter a number: \")) \n",
        "if num < 0:\n",
        "   print(\"Enter a positive number\")\n",
        "else:\n",
        "   print(\"The sum is\",ns(num))"
      ],
      "execution_count": null,
      "outputs": [
        {
          "output_type": "stream",
          "name": "stdout",
          "text": [
            "Enter a number: 5\n",
            "The sum is 15\n"
          ]
        }
      ]
    },
    {
      "cell_type": "code",
      "metadata": {
        "colab": {
          "base_uri": "https://localhost:8080/"
        },
        "id": "F8gghlbqVZYF",
        "outputId": "2f45c3a8-2065-4414-ce74-5d5fa3748613"
      },
      "source": [
        "def facto(n):  \n",
        "   if n == 1:  \n",
        "       return n  \n",
        "   else:  \n",
        "       return (n*facto(n-1))   \n",
        "n = int(input(\"Enter a number: \"))  \n",
        "if n < 0:  \n",
        "   print(\"enter positive no\")  \n",
        "elif n== 0:  \n",
        "   print(\"The factorial of 0 is 1\")  \n",
        "else:  \n",
        "   print(facto(num)) "
      ],
      "execution_count": null,
      "outputs": [
        {
          "output_type": "stream",
          "name": "stdout",
          "text": [
            "Enter a number: 5\n",
            "120\n"
          ]
        }
      ]
    },
    {
      "cell_type": "code",
      "metadata": {
        "colab": {
          "base_uri": "https://localhost:8080/"
        },
        "id": "vV7HQqE7VyIT",
        "outputId": "48cd27e7-66cf-47aa-977f-a4625e8236a7"
      },
      "source": [
        "def binary(n):\n",
        "  if(n==0):\n",
        "    return 0\n",
        "  else:\n",
        "    binary(int(n/2))\n",
        "    print(n%2,end=\"\")\n",
        "n=int(input(\"Enter no\"))\n",
        "binary(n)"
      ],
      "execution_count": null,
      "outputs": [
        {
          "output_type": "stream",
          "name": "stdout",
          "text": [
            "Enter no5\n",
            "101"
          ]
        }
      ]
    },
    {
      "cell_type": "code",
      "metadata": {
        "colab": {
          "base_uri": "https://localhost:8080/"
        },
        "id": "BQkDCcTjYU88",
        "outputId": "ea54cfc2-ce33-4ab8-9226-3ae9bc749286"
      },
      "source": [
        "n=input(\"Enter a string\")\n",
        "s=n[::-1]\n",
        "if(n==s):\n",
        "  print(\"Palindrome\")\n",
        "else:\n",
        "  print(\"not palindrome\")"
      ],
      "execution_count": null,
      "outputs": [
        {
          "output_type": "stream",
          "name": "stdout",
          "text": [
            "Enter a stringmadam\n",
            "Palindrome\n"
          ]
        }
      ]
    },
    {
      "cell_type": "code",
      "metadata": {
        "colab": {
          "base_uri": "https://localhost:8080/"
        },
        "id": "xnNqP5lrajWA",
        "outputId": "e351664e-0c42-4ff8-cf36-1ae7b2875d86"
      },
      "source": [
        "a = {0, 2, 4, 6, 8};\n",
        "b = {1, 2, 3, 4, 5};\n",
        "print(\"Union of a and b is\",a | b)\n",
        "print(\"Intersection of a and b is\",a & b)\n",
        "print(\"Difference of a and b is\",a - b)\n",
        "print(\"Symmetric difference of a and b is\",a ^ b)"
      ],
      "execution_count": null,
      "outputs": [
        {
          "output_type": "stream",
          "name": "stdout",
          "text": [
            "Union of a and b is {0, 1, 2, 3, 4, 5, 6, 8}\n",
            "Intersection of a and b is {2, 4}\n",
            "Difference of a and b is {0, 8, 6}\n",
            "Symmetric difference of a and b is {0, 1, 3, 5, 6, 8}\n"
          ]
        }
      ]
    },
    {
      "cell_type": "code",
      "metadata": {
        "colab": {
          "base_uri": "https://localhost:8080/"
        },
        "id": "lg15-nFUiabW",
        "outputId": "894c5b76-bc8a-4f6a-f03c-90c20ae1ac53"
      },
      "source": [
        "for i in range(4):\n",
        "  for j in range(i+1):\n",
        "    print(\"*\",end=\" \")\n",
        "  print(\"\\n\")\n",
        "    \n",
        "    "
      ],
      "execution_count": null,
      "outputs": [
        {
          "output_type": "stream",
          "name": "stdout",
          "text": [
            "* \n",
            "\n",
            "* * \n",
            "\n",
            "* * * \n",
            "\n",
            "* * * * \n",
            "\n"
          ]
        }
      ]
    },
    {
      "cell_type": "code",
      "metadata": {
        "colab": {
          "base_uri": "https://localhost:8080/"
        },
        "id": "Vq1TdPaQlj9S",
        "outputId": "66db10ca-f261-49c7-84fd-6eab1ed26055"
      },
      "source": [
        "a={1,2,3,4}\n",
        "b={5,6,7,8}\n",
        "print(a|b)"
      ],
      "execution_count": null,
      "outputs": [
        {
          "output_type": "stream",
          "name": "stdout",
          "text": [
            "{1, 2, 3, 4, 5, 6, 7, 8}\n"
          ]
        }
      ]
    },
    {
      "cell_type": "code",
      "metadata": {
        "id": "ppk7IuQ4qPJt"
      },
      "source": [
        ""
      ],
      "execution_count": null,
      "outputs": []
    },
    {
      "cell_type": "code",
      "metadata": {
        "colab": {
          "base_uri": "https://localhost:8080/"
        },
        "id": "vo-zjF1CnOe8",
        "outputId": "31fcdde7-f8c3-4c76-8ddc-9f8ee6eab00c"
      },
      "source": [
        "a = {1: {'name': 'John', 'age': '27', 'sex': 'Male'},\n",
        "        2: {'name': 'Marie', 'age': '22', 'sex': 'Female'}}\n",
        "print(a[1]['name'])\n",
        "print(a[1]['age'])\n",
        "print(a[1]['sex'])\n"
      ],
      "execution_count": null,
      "outputs": [
        {
          "output_type": "stream",
          "name": "stdout",
          "text": [
            "John\n",
            "27\n",
            "Male\n"
          ]
        }
      ]
    },
    {
      "cell_type": "code",
      "metadata": {
        "colab": {
          "base_uri": "https://localhost:8080/"
        },
        "id": "xhZqFTkepAM9",
        "outputId": "795b1f29-4880-4cab-a9c1-e700d1a4a317"
      },
      "source": [
        "s=['a','b','c','d']\n",
        "for i in range(len(s)):\n",
        "  print(\"at index\",i,s[i])"
      ],
      "execution_count": null,
      "outputs": [
        {
          "output_type": "stream",
          "name": "stdout",
          "text": [
            "at index 0 a\n",
            "at index 1 b\n",
            "at index 2 c\n",
            "at index 3 d\n"
          ]
        }
      ]
    },
    {
      "cell_type": "code",
      "metadata": {
        "colab": {
          "base_uri": "https://localhost:8080/"
        },
        "id": "SPcsZBWGql4O",
        "outputId": "ae84d1e9-b33a-4e36-aeb8-e28e9d135857"
      },
      "source": [
        "a=[[1,2,3],[4,5,6],[7,8,9]]\n",
        "fl = [num for sublist in a for num in sublist]\n",
        "print(fl)"
      ],
      "execution_count": null,
      "outputs": [
        {
          "output_type": "stream",
          "name": "stdout",
          "text": [
            "[1, 2, 3, 4, 5, 6, 7, 8, 9]\n"
          ]
        }
      ]
    },
    {
      "cell_type": "code",
      "metadata": {
        "colab": {
          "base_uri": "https://localhost:8080/"
        },
        "id": "fpOCDOXcuKKX",
        "outputId": "b0feaa31-f42e-47e8-d149-9c2661b74044"
      },
      "source": [
        "a=[1,2,3,4,5,6,7]\n",
        "print(a[2::])"
      ],
      "execution_count": null,
      "outputs": [
        {
          "output_type": "stream",
          "name": "stdout",
          "text": [
            "[3, 4, 5, 6, 7]\n"
          ]
        }
      ]
    },
    {
      "cell_type": "code",
      "metadata": {
        "colab": {
          "base_uri": "https://localhost:8080/"
        },
        "id": "sesA3Ytbv_uA",
        "outputId": "54063b10-7fe7-443d-80e4-4e0b93e47440"
      },
      "source": [
        "a=[1,2,3,4,5,6,7]\n",
        "print(a[:4:])"
      ],
      "execution_count": null,
      "outputs": [
        {
          "output_type": "stream",
          "name": "stdout",
          "text": [
            "[1, 2, 3, 4]\n"
          ]
        }
      ]
    },
    {
      "cell_type": "code",
      "metadata": {
        "colab": {
          "base_uri": "https://localhost:8080/"
        },
        "id": "94zCNz_twGiQ",
        "outputId": "a7b2c5f1-c249-4d5f-943a-af53dec77389"
      },
      "source": [
        "a=[1,2,3,4,5,6,7]\n",
        "print(a[::-1])"
      ],
      "execution_count": null,
      "outputs": [
        {
          "output_type": "stream",
          "name": "stdout",
          "text": [
            "[7, 6, 5, 4, 3, 2, 1]\n"
          ]
        }
      ]
    },
    {
      "cell_type": "code",
      "metadata": {
        "colab": {
          "base_uri": "https://localhost:8080/"
        },
        "id": "Aj2ol67JwKls",
        "outputId": "8b725b99-7e4a-46af-94f0-c650774e74cf"
      },
      "source": [
        "a={'name-':'chiku','branch-':'cs','age-':'21'}\n",
        "for key in a:\n",
        "  print(key,a[key])"
      ],
      "execution_count": null,
      "outputs": [
        {
          "output_type": "stream",
          "name": "stdout",
          "text": [
            "name- chiku\n",
            "branch- cs\n",
            "age- 21\n"
          ]
        }
      ]
    },
    {
      "cell_type": "code",
      "metadata": {
        "colab": {
          "base_uri": "https://localhost:8080/"
        },
        "id": "w7nZKhSfyehx",
        "outputId": "099151f9-ac65-499a-921b-70c7ba9e145e"
      },
      "source": [
        "age={'ram':55,'shyam':20,'chiku':36}\n",
        "for i in sorted(age,key=age.get):\n",
        "  print(i,age[i])"
      ],
      "execution_count": null,
      "outputs": [
        {
          "output_type": "stream",
          "name": "stdout",
          "text": [
            "shyam 20\n",
            "chiku 36\n",
            "ram 55\n"
          ]
        }
      ]
    },
    {
      "cell_type": "code",
      "metadata": {
        "id": "7W0AmTKMzwmU",
        "colab": {
          "base_uri": "https://localhost:8080/"
        },
        "outputId": "00042e7c-89c0-40ac-b551-ff389ffd0bb1"
      },
      "source": [
        "a=[2,3,4,5]\n",
        "if not  a:\n",
        "  print(\"List is empty\")\n",
        "else:\n",
        "  print(\"LIst is not empty\")"
      ],
      "execution_count": null,
      "outputs": [
        {
          "output_type": "stream",
          "name": "stdout",
          "text": [
            "LIst is not empty\n"
          ]
        }
      ]
    },
    {
      "cell_type": "code",
      "metadata": {
        "colab": {
          "base_uri": "https://localhost:8080/",
          "height": 384
        },
        "id": "yEqk82NKCKgH",
        "outputId": "341a7e61-c52c-4510-aa85-74125c1f9d75"
      },
      "source": [
        "try:\n",
        "  a=100\n",
        "  b=0\n",
        "  q=a/b\n",
        "  print(q)\n",
        "except division_error:\n",
        "  print(\"divison is not perfrmed\")iku"
      ],
      "execution_count": null,
      "outputs": [
        {
          "output_type": "error",
          "ename": "NameError",
          "evalue": "ignored",
          "traceback": [
            "\u001b[0;31m---------------------------------------------------------------------------\u001b[0m",
            "\u001b[0;31mZeroDivisionError\u001b[0m                         Traceback (most recent call last)",
            "\u001b[0;32m<ipython-input-42-993c32d2dd3d>\u001b[0m in \u001b[0;36m<module>\u001b[0;34m()\u001b[0m\n\u001b[1;32m      3\u001b[0m   \u001b[0mb\u001b[0m\u001b[0;34m=\u001b[0m\u001b[0;36m0\u001b[0m\u001b[0;34m\u001b[0m\u001b[0;34m\u001b[0m\u001b[0m\n\u001b[0;32m----> 4\u001b[0;31m   \u001b[0mq\u001b[0m\u001b[0;34m=\u001b[0m\u001b[0ma\u001b[0m\u001b[0;34m/\u001b[0m\u001b[0mb\u001b[0m\u001b[0;34m\u001b[0m\u001b[0;34m\u001b[0m\u001b[0m\n\u001b[0m\u001b[1;32m      5\u001b[0m   \u001b[0mprint\u001b[0m\u001b[0;34m(\u001b[0m\u001b[0mq\u001b[0m\u001b[0;34m)\u001b[0m\u001b[0;34m\u001b[0m\u001b[0;34m\u001b[0m\u001b[0m\n",
            "\u001b[0;31mZeroDivisionError\u001b[0m: division by zero",
            "\nDuring handling of the above exception, another exception occurred:\n",
            "\u001b[0;31mNameError\u001b[0m                                 Traceback (most recent call last)",
            "\u001b[0;32m<ipython-input-42-993c32d2dd3d>\u001b[0m in \u001b[0;36m<module>\u001b[0;34m()\u001b[0m\n\u001b[1;32m      4\u001b[0m   \u001b[0mq\u001b[0m\u001b[0;34m=\u001b[0m\u001b[0ma\u001b[0m\u001b[0;34m/\u001b[0m\u001b[0mb\u001b[0m\u001b[0;34m\u001b[0m\u001b[0;34m\u001b[0m\u001b[0m\n\u001b[1;32m      5\u001b[0m   \u001b[0mprint\u001b[0m\u001b[0;34m(\u001b[0m\u001b[0mq\u001b[0m\u001b[0;34m)\u001b[0m\u001b[0;34m\u001b[0m\u001b[0;34m\u001b[0m\u001b[0m\n\u001b[0;32m----> 6\u001b[0;31m \u001b[0;32mexcept\u001b[0m \u001b[0mdivision_error\u001b[0m\u001b[0;34m:\u001b[0m\u001b[0;34m\u001b[0m\u001b[0;34m\u001b[0m\u001b[0m\n\u001b[0m\u001b[1;32m      7\u001b[0m   \u001b[0mprint\u001b[0m\u001b[0;34m(\u001b[0m\u001b[0;34m\"divison is not perfrmed\"\u001b[0m\u001b[0;34m)\u001b[0m\u001b[0;34m\u001b[0m\u001b[0;34m\u001b[0m\u001b[0m\n",
            "\u001b[0;31mNameError\u001b[0m: name 'division_error' is not defined"
          ]
        }
      ]
    },
    {
      "cell_type": "code",
      "metadata": {
        "colab": {
          "base_uri": "https://localhost:8080/"
        },
        "id": "a36T9qyaHCRB",
        "outputId": "50fb2887-35f1-4505-90a7-3cc48b05940a"
      },
      "source": [
        "\n",
        "a=['chiku','ram']\n",
        "b=[2,4]\n",
        "c=a+b\n",
        "print(c)"
      ],
      "execution_count": null,
      "outputs": [
        {
          "output_type": "stream",
          "name": "stdout",
          "text": [
            "['chiku', 'ram', 2, 4]\n"
          ]
        }
      ]
    },
    {
      "cell_type": "code",
      "metadata": {
        "colab": {
          "base_uri": "https://localhost:8080/"
        },
        "id": "cLLfLWb6HJSC",
        "outputId": "8feee09f-8024-4ed3-b8cc-ae3e9d8c9bb9"
      },
      "source": [
        "a={'name':'chiku','class':'cs1','age':'21'}\n",
        "n=input(\"ENter any key\")\n",
        "if n in a:\n",
        "  print(\"key is present\")\n",
        "else:\n",
        "  print(\"Key is Not present\")"
      ],
      "execution_count": null,
      "outputs": [
        {
          "output_type": "stream",
          "name": "stdout",
          "text": [
            "ENter any keybranch\n",
            "Not present\n"
          ]
        }
      ]
    },
    {
      "cell_type": "code",
      "metadata": {
        "colab": {
          "base_uri": "https://localhost:8080/"
        },
        "id": "8LLal16bJaqT",
        "outputId": "2d9b13c1-4204-4e80-8a0f-04b9e3234beb"
      },
      "source": [
        "n=int(input(\"ENter in  how many chunk divided\"))\n",
        "l = [1,2,4,5,6,9,0,34,56,89,31,42]\n",
        "[l[i:i + n] for i in range(0, len(l), n)]"
      ],
      "execution_count": null,
      "outputs": [
        {
          "name": "stdout",
          "output_type": "stream",
          "text": [
            "ENter in  how many chunk divided5\n"
          ]
        },
        {
          "output_type": "execute_result",
          "data": {
            "text/plain": [
              "[[1, 2, 4, 5, 6], [9, 0, 34, 56, 89], [31, 42]]"
            ]
          },
          "metadata": {},
          "execution_count": 52
        }
      ]
    },
    {
      "cell_type": "code",
      "metadata": {
        "colab": {
          "base_uri": "https://localhost:8080/"
        },
        "id": "EoN4uxphKlL4",
        "outputId": "2ca3c1a4-38a4-4d16-e56e-17a21d9109f9"
      },
      "source": [
        "a=293.344\n",
        "print(float(a),type(a))\n",
        "print(int(a),type(a))\n"
      ],
      "execution_count": null,
      "outputs": [
        {
          "output_type": "stream",
          "name": "stdout",
          "text": [
            "293.0 <class 'int'>\n",
            "293 <class 'int'>\n"
          ]
        }
      ]
    },
    {
      "cell_type": "code",
      "metadata": {
        "colab": {
          "base_uri": "https://localhost:8080/"
        },
        "id": "GoxxpizbL0DI",
        "outputId": "589ec54c-3253-41c1-e7a3-6f5d49b1de6f"
      },
      "source": [
        "a=[2,3,4,1]\n",
        "for i in a[3:4:]:\n",
        "  print(i)"
      ],
      "execution_count": null,
      "outputs": [
        {
          "output_type": "stream",
          "name": "stdout",
          "text": [
            "1\n"
          ]
        }
      ]
    },
    {
      "cell_type": "code",
      "metadata": {
        "colab": {
          "base_uri": "https://localhost:8080/"
        },
        "id": "2Ihe_4aPOYYt",
        "outputId": "f2997689-4810-4336-f5ee-da3d7968d6f5"
      },
      "source": [
        "n=input(\"ENter a string :\")\n",
        "for i in range(len(n)):\n",
        "  for j in range(i+1,len(n)+1):\n",
        "    print(n[i:j])"
      ],
      "execution_count": null,
      "outputs": [
        {
          "output_type": "stream",
          "name": "stdout",
          "text": [
            "ENter a string :chiku\n",
            "c\n",
            "ch\n",
            "chi\n",
            "chik\n",
            "chiku\n",
            "h\n",
            "hi\n",
            "hik\n",
            "hiku\n",
            "i\n",
            "ik\n",
            "iku\n",
            "k\n",
            "ku\n",
            "u\n"
          ]
        }
      ]
    },
    {
      "cell_type": "code",
      "metadata": {
        "id": "45nukbxRQrE4",
        "colab": {
          "base_uri": "https://localhost:8080/"
        },
        "outputId": "fea617b2-a6bd-49d1-c1b8-6c34fa4d342f"
      },
      "source": [
        "s=input(\"Enter a string\")\n",
        "for i in s:\n",
        "  print(i,end=\"\")"
      ],
      "execution_count": 3,
      "outputs": [
        {
          "output_type": "stream",
          "name": "stdout",
          "text": [
            "Enter a stringchiku\n",
            "chiku"
          ]
        }
      ]
    },
    {
      "cell_type": "code",
      "metadata": {
        "colab": {
          "base_uri": "https://localhost:8080/"
        },
        "id": "_jQqpyXdSS_G",
        "outputId": "794bf7c2-5a95-45e0-fb19-3d507db6b4a5"
      },
      "source": [
        "l=[2,4,3,1,5]\n",
        "import random\n",
        "n=random.randint(0,len(l))\n",
        "print(l[n])"
      ],
      "execution_count": 9,
      "outputs": [
        {
          "output_type": "stream",
          "name": "stdout",
          "text": [
            "1\n"
          ]
        }
      ]
    },
    {
      "cell_type": "code",
      "metadata": {
        "colab": {
          "base_uri": "https://localhost:8080/"
        },
        "id": "woF8VEuTTFCc",
        "outputId": "13294796-8412-4f98-cd32-7a0a192d5396"
      },
      "source": [
        "numbers = [2,3,3,5,1,2,5]\n",
        "n=int(input(\"ENter a no\"))\n",
        "count = numbers.count(n)\n",
        "\n",
        "\n",
        "print('Count of ',n, count)"
      ],
      "execution_count": 16,
      "outputs": [
        {
          "output_type": "stream",
          "name": "stdout",
          "text": [
            "ENter a no5\n",
            "Count of  5 2\n"
          ]
        }
      ]
    },
    {
      "cell_type": "code",
      "metadata": {
        "colab": {
          "base_uri": "https://localhost:8080/"
        },
        "id": "Yd8vckcwUG8B",
        "outputId": "5b5e8eb8-1e00-4acc-bce2-21241bc59e47"
      },
      "source": [
        "a={ 'name':'chiku','branch':'cs','college':'siet','age':'21'}\n",
        "a.pop(\"age\")\n",
        "print(a)"
      ],
      "execution_count": 18,
      "outputs": [
        {
          "output_type": "stream",
          "name": "stdout",
          "text": [
            "{'name': 'chiku', 'branch': 'cs', 'college': 'siet'}\n"
          ]
        }
      ]
    },
    {
      "cell_type": "code",
      "metadata": {
        "colab": {
          "base_uri": "https://localhost:8080/"
        },
        "id": "csQRoKy1Vnf4",
        "outputId": "7ba6d758-4f3a-4c12-ead4-c683ba7fb30e"
      },
      "source": [
        "a=''' My name is sudhnshu singh \n",
        "     i am from kanpur\n",
        "     how are you'''\n",
        "print(a)"
      ],
      "execution_count": 19,
      "outputs": [
        {
          "output_type": "stream",
          "name": "stdout",
          "text": [
            " My name is sudhnshu singh \n",
            "     i am from kanpur\n",
            "     how are you\n"
          ]
        }
      ]
    },
    {
      "cell_type": "code",
      "metadata": {
        "colab": {
          "base_uri": "https://localhost:8080/"
        },
        "id": "ao7nirhBWAN_",
        "outputId": "3a049657-0c9a-4404-e250-586ea9b2381b"
      },
      "source": [
        "import time\n",
        "s = time.time()\n",
        "print(\"chiku\")\n",
        "e = time.time()\n",
        "print(e - s)"
      ],
      "execution_count": 22,
      "outputs": [
        {
          "output_type": "stream",
          "name": "stdout",
          "text": [
            "chiku\n",
            "0.0032694339752197266\n"
          ]
        }
      ]
    },
    {
      "cell_type": "code",
      "metadata": {
        "colab": {
          "base_uri": "https://localhost:8080/"
        },
        "id": "pnje9hB7XQE6",
        "outputId": "2b90e702-358e-456b-a601-f3c14a9c9a41"
      },
      "source": [
        "l1 = [\"chiku\", \"singh\", \"moh\"]\n",
        "l2 = [20, 12, 50]\n",
        "print(\"List 1 : \", l1)\n",
        "print(\"list 2 : \", l2)\n",
        "d= {l1[i]: l2[i] for i in range(len(l1))}\n",
        "print(\"list to dict    \",d)"
      ],
      "execution_count": 27,
      "outputs": [
        {
          "output_type": "stream",
          "name": "stdout",
          "text": [
            "List 1 :  ['chiku', 'singh', 'moh']\n",
            "list 2 :  [20, 12, 50]\n",
            "Dictionary from lists    {'chiku': 20, 'singh': 12, 'moh': 50}\n"
          ]
        }
      ]
    },
    {
      "cell_type": "code",
      "metadata": {
        "colab": {
          "base_uri": "https://localhost:8080/"
        },
        "id": "Q_X_Ano2YESE",
        "outputId": "e97edb73-269d-45bb-94ab-7ca66510cfcb"
      },
      "source": [
        "n=\"  sudhanshu singh  \"\n",
        "print(n.strip())"
      ],
      "execution_count": 31,
      "outputs": [
        {
          "output_type": "stream",
          "name": "stdout",
          "text": [
            "sudhanshu singh\n"
          ]
        }
      ]
    },
    {
      "cell_type": "code",
      "metadata": {
        "id": "JVj4XxpvYt86"
      },
      "source": [
        ""
      ],
      "execution_count": null,
      "outputs": []
    }
  ]
}